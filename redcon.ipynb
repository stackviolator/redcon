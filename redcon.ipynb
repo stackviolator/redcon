{
 "cells": [
  {
   "cell_type": "code",
   "execution_count": null,
   "metadata": {},
   "outputs": [],
   "source": [
    "import os"
   ]
  },
  {
   "cell_type": "code",
   "execution_count": 22,
   "metadata": {},
   "outputs": [],
   "source": [
    "def set_api_key(filepath: str = '.env'):\n",
    "    \"\"\"\n",
    "    Set the OpenAI API key\n",
    "    \"\"\"\n",
    "    with open(filepath, 'r') as f:\n",
    "        for line in f:\n",
    "            if line.startswith(\"OPENAI_API_KEY\"):\n",
    "                os.environ['OPENAI_API_KEY'] = line.strip().split(\"=\")[-1].strip(\"\\\"\")\n",
    "\n",
    "    assert os.environ['OPENAI_API_KEY'] is not None or os.environ['OPENAI_API_KEY'] != \"\"\n",
    "\n",
    "def read_system_prompt(filepath: str = \"system_promt.txt\"):\n",
    "    pass\n",
    "\n",
    "set_api_key()"
   ]
  },
  {
   "cell_type": "code",
   "execution_count": 12,
   "metadata": {},
   "outputs": [
    {
     "name": "stdout",
     "output_type": "stream",
     "text": [
      "[ChatCompletionMessageToolCall(id='call_nJ2xwYVLZyTRujFSZZx5S1fS', function=Function(arguments='{\"location\":\"Austin, TX\"}', name='get_weather'), type='function')]\n"
     ]
    }
   ],
   "source": [
    "from openai import OpenAI\n",
    "\n",
    "client = OpenAI()\n",
    "\n",
    "tools = [\n",
    "  {\n",
    "      \"type\": \"function\",\n",
    "      \"function\": {\n",
    "          \"name\": \"get_weather\",\n",
    "          \"parameters\": {\n",
    "              \"type\": \"object\",\n",
    "              \"properties\": {\n",
    "                  \"location\": {\"type\": \"string\"}\n",
    "              },\n",
    "          },\n",
    "      },\n",
    "  }\n",
    "]\n",
    "\n",
    "completion = client.chat.completions.create(\n",
    "    model=\"gpt-4o\",\n",
    "    messages=[\n",
    "        {\"role\": \"system\", \"content\": \"You are a helpful assistant.\"},\n",
    "        {\n",
    "            \"role\": \"user\",\n",
    "            \"content\": \"What is the weather like in Austin, TX today\"\n",
    "        }\n",
    "    ],\n",
    "    tools=tools\n",
    ")\n",
    "\n",
    "print(completion.choices[0].message.tool_calls)"
   ]
  }
 ],
 "metadata": {
  "kernelspec": {
   "display_name": "Python (minterp)",
   "language": "python",
   "name": "minterp"
  },
  "language_info": {
   "codemirror_mode": {
    "name": "ipython",
    "version": 3
   },
   "file_extension": ".py",
   "mimetype": "text/x-python",
   "name": "python",
   "nbconvert_exporter": "python",
   "pygments_lexer": "ipython3",
   "version": "3.11.2"
  }
 },
 "nbformat": 4,
 "nbformat_minor": 2
}
